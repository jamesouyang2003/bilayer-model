{
 "cells": [
  {
   "cell_type": "code",
   "execution_count": null,
   "source": [
    "import sys\n",
    "sys.path.append('../')\n",
    "\n",
    "import glob\n",
    "import copy\n",
    "import numpy as np\n",
    "from PIL import Image\n",
    "from matplotlib import pyplot as plt\n",
    "\n",
    "from infer import InferenceWrapper"
   ],
   "outputs": [],
   "metadata": {}
  },
  {
   "cell_type": "markdown",
   "source": [
    "### Load the model"
   ],
   "metadata": {}
  },
  {
   "cell_type": "code",
   "execution_count": null,
   "source": [
    "args_dict = {\n",
    "    'project_dir': '../',\n",
    "    'init_experiment_dir': '../runs/vc2-hq_adrianb_paper_main',\n",
    "    'init_networks': 'identity_embedder, texture_generator, keypoints_embedder, inference_generator',\n",
    "    'init_which_epoch': '2225',\n",
    "    'num_gpus': 0,\n",
    "    'experiment_name': 'vc2-hq_adrianb_paper_enhancer',\n",
    "    'which_epoch': '1225',\n",
    "    'spn_networks': 'identity_embedder, texture_generator, keypoints_embedder, inference_generator, texture_enhancer',\n",
    "    'enh_apply_masks': False,\n",
    "    'inf_apply_masks': False}"
   ],
   "outputs": [],
   "metadata": {}
  },
  {
   "cell_type": "code",
   "execution_count": null,
   "source": [
    "module = InferenceWrapper(args_dict)"
   ],
   "outputs": [],
   "metadata": {
    "scrolled": true
   }
  },
  {
   "cell_type": "markdown",
   "source": [
    "### Calculate poses, segmentation and do the inference"
   ],
   "metadata": {}
  },
  {
   "cell_type": "code",
   "execution_count": null,
   "source": [
    "input_data_dict = {\n",
    "    'source_imgs': np.asarray(Image.open('images/target_big.jpg')), # H x W x 3\n",
    "    'target_imgs': np.asarray(Image.open('images/source1_big.jpg'))[None]} # B x H x W x # 3\n",
    "\n",
    "output_data_dict = module(input_data_dict)"
   ],
   "outputs": [],
   "metadata": {
    "scrolled": true
   }
  },
  {
   "cell_type": "code",
   "execution_count": null,
   "source": [
    "def to_image(img_tensor, seg_tensor=None):\n",
    "    img_array = ((img_tensor.clamp(-1, 1).cpu().numpy() + 1) / 2).transpose(1, 2, 0) * 255\n",
    "    \n",
    "    if seg_tensor is not None:\n",
    "        seg_array = seg_tensor.cpu().numpy().transpose(1, 2, 0)\n",
    "        img_array = img_array * seg_array + 255. * (1 - seg_array)\n",
    "\n",
    "    return Image.fromarray(img_array.astype('uint8'))"
   ],
   "outputs": [],
   "metadata": {}
  },
  {
   "cell_type": "code",
   "execution_count": null,
   "source": [
    "source_img = to_image(output_data_dict['source_imgs'][0, 0])\n",
    "source_img"
   ],
   "outputs": [],
   "metadata": {}
  },
  {
   "cell_type": "code",
   "execution_count": null,
   "source": [
    "hf_texture = to_image(output_data_dict['pred_enh_tex_hf_rgbs'][0, 0])\n",
    "hf_texture"
   ],
   "outputs": [],
   "metadata": {}
  },
  {
   "cell_type": "code",
   "execution_count": null,
   "source": [
    "target_pose = to_image(output_data_dict['target_stickmen'][0, 0])\n",
    "target_pose"
   ],
   "outputs": [],
   "metadata": {}
  },
  {
   "cell_type": "code",
   "execution_count": null,
   "source": [
    "pred_img = to_image(output_data_dict['pred_enh_target_imgs'][0, 0], output_data_dict['pred_target_segs'][0, 0])\n",
    "pred_img"
   ],
   "outputs": [],
   "metadata": {}
  },
  {
   "cell_type": "code",
   "execution_count": null,
   "source": [],
   "outputs": [],
   "metadata": {}
  }
 ],
 "metadata": {
  "kernelspec": {
   "name": "python3",
   "display_name": "Python 3.9.6 64-bit"
  },
  "language_info": {
   "codemirror_mode": {
    "name": "ipython",
    "version": 3
   },
   "file_extension": ".py",
   "mimetype": "text/x-python",
   "name": "python",
   "nbconvert_exporter": "python",
   "pygments_lexer": "ipython3",
   "version": "3.9.6"
  },
  "interpreter": {
   "hash": "aee8b7b246df8f9039afb4144a1f6fd8d2ca17a180786b69acc140d282b71a49"
  }
 },
 "nbformat": 4,
 "nbformat_minor": 2
}